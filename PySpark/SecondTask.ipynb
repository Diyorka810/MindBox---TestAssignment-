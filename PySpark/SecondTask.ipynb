{
 "cells": [
  {
   "cell_type": "code",
   "execution_count": 1,
   "id": "7a23ecd4",
   "metadata": {},
   "outputs": [
    {
     "name": "stderr",
     "output_type": "stream",
     "text": [
      "Setting default log level to \"WARN\".\n",
      "To adjust logging level use sc.setLogLevel(newLevel). For SparkR, use setLogLevel(newLevel).\n",
      "24/07/22 16:54:38 WARN NativeCodeLoader: Unable to load native-hadoop library for your platform... using builtin-java classes where applicable\n"
     ]
    },
    {
     "name": "stdout",
     "output_type": "stream",
     "text": [
      "Product-Category Pairs:\n"
     ]
    },
    {
     "name": "stderr",
     "output_type": "stream",
     "text": [
      "                                                                                \r"
     ]
    },
    {
     "name": "stdout",
     "output_type": "stream",
     "text": [
      "+------------+-------------+\n",
      "|product_name|category_name|\n",
      "+------------+-------------+\n",
      "|   Product A|   Category 2|\n",
      "|   Product A|   Category 1|\n",
      "|   Product B|   Category 1|\n",
      "|   Product C|   Category 3|\n",
      "|   Product D|         NULL|\n",
      "+------------+-------------+\n",
      "\n",
      "Orphan Products:\n"
     ]
    },
    {
     "name": "stderr",
     "output_type": "stream",
     "text": [
      "                                                                                \r"
     ]
    },
    {
     "name": "stdout",
     "output_type": "stream",
     "text": [
      "+------------+\n",
      "|product_name|\n",
      "+------------+\n",
      "|   Product D|\n",
      "+------------+\n",
      "\n"
     ]
    }
   ],
   "source": [
    "from pyspark.sql import SparkSession\n",
    "from pyspark.sql.functions import col, lit\n",
    "\n",
    "spark = SparkSession.builder.appName(\"ProductCategory\").getOrCreate()\n",
    "\n",
    "products_data = [\n",
    "    (1, \"Product A\"),\n",
    "    (2, \"Product B\"),\n",
    "    (3, \"Product C\"),\n",
    "    (4, \"Product D\"),\n",
    "]\n",
    "\n",
    "categories_data = [\n",
    "    (1, \"Category 1\"),\n",
    "    (2, \"Category 2\"),\n",
    "    (3, \"Category 3\"),\n",
    "]\n",
    "\n",
    "product_category_data = [\n",
    "    (1, 1),\n",
    "    (1, 2),\n",
    "    (2, 1),\n",
    "    (3, 3),\n",
    "]\n",
    "\n",
    "products_df = spark.createDataFrame(products_data, [\"id\", \"name\"])\n",
    "categories_df = spark.createDataFrame(categories_data, [\"id\", \"name\"])\n",
    "product_category_df = spark.createDataFrame(product_category_data, [\"product_id\", \"category_id\"])\n",
    "\n",
    "def get_product_category_pairs_and_orphan_products(products_df, categories_df, product_category_df):\n",
    "    product_category_join = products_df.join(\n",
    "        product_category_df,\n",
    "        products_df.id == product_category_df.product_id,\n",
    "        how=\"left\"\n",
    "    ).join(\n",
    "        categories_df,\n",
    "        product_category_df.category_id == categories_df.id,\n",
    "        how=\"left\"\n",
    "    ).select(\n",
    "        products_df.name.alias(\"product_name\"),\n",
    "        categories_df.name.alias(\"category_name\")\n",
    "    )\n",
    "    orphan_products = product_category_join.filter(col(\"category_name\").isNull()).select(\"product_name\").distinct()\n",
    "    \n",
    "    return product_category_join, orphan_products\n",
    "\n",
    "product_category_pairs, orphan_products = get_product_category_pairs_and_orphan_products(products_df, categories_df, product_category_df)\n",
    "\n",
    "print(\"Product-Category Pairs:\")\n",
    "product_category_pairs.show()\n",
    "\n",
    "print(\"Orphan Products:\")\n",
    "orphan_products.show()"
   ]
  }
 ],
 "metadata": {
  "kernelspec": {
   "display_name": "Python 3",
   "language": "python",
   "name": "python3"
  },
  "language_info": {
   "codemirror_mode": {
    "name": "ipython",
    "version": 3
   },
   "file_extension": ".py",
   "mimetype": "text/x-python",
   "name": "python",
   "nbconvert_exporter": "python",
   "pygments_lexer": "ipython3",
   "version": "3.11.9"
  }
 },
 "nbformat": 4,
 "nbformat_minor": 5
}
